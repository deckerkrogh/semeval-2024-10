{
 "cells": [
  {
   "cell_type": "code",
   "execution_count": null,
   "id": "87ad7b34-6265-49ca-b3fe-b5f322707370",
   "metadata": {},
   "outputs": [],
   "source": [
    "# Names of the files to be combined\n",
    "file_names = ['predictions/predictions1.txt', 'predictions/predictions2.txt', 'predictions/predictions3.txt']\n",
    "\n",
    "# Name of the new combined file\n",
    "combined_file_name = 'predictions/answer.txt'\n",
    "\n",
    "# Open the new file in write mode\n",
    "with open(combined_file_name, 'w') as combined_file:\n",
    "    for file_name in file_names:\n",
    "        # Open each file in read mode\n",
    "        with open(file_name, 'r') as file:\n",
    "            # Read the content and write it to the combined file\n",
    "            combined_file.write(file.read())\n",
    "            # Write a newline character to ensure the next file starts on a new line\n",
    "            combined_file.write('\\n')\n"
   ]
  }
 ],
 "metadata": {
  "kernelspec": {
   "display_name": "Python 3 (ipykernel)",
   "language": "python",
   "name": "python3"
  },
  "language_info": {
   "codemirror_mode": {
    "name": "ipython",
    "version": 3
   },
   "file_extension": ".py",
   "mimetype": "text/x-python",
   "name": "python",
   "nbconvert_exporter": "python",
   "pygments_lexer": "ipython3",
   "version": "3.11.5"
  }
 },
 "nbformat": 4,
 "nbformat_minor": 5
}
