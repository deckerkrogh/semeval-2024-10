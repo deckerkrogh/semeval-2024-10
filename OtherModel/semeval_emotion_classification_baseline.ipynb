{
 "nbformat": 4,
 "nbformat_minor": 0,
 "metadata": {
  "colab": {
   "provenance": [],
   "authorship_tag": "ABX9TyMFK8I7l2Vzr+Zq/HW+7Xve",
   "include_colab_link": true
  },
  "kernelspec": {
   "name": "python3",
   "language": "python",
   "display_name": "Python 3 (ipykernel)"
  },
  "language_info": {
   "name": "python"
  }
 },
 "cells": [
  {
   "cell_type": "markdown",
   "metadata": {
    "id": "view-in-github",
    "colab_type": "text"
   },
   "source": [
    "<a href=\"https://colab.research.google.com/github/deckerkrogh/semeval-2024-10/blob/main/semeval_emotion_classification_baseline.ipynb\" target=\"_parent\"><img src=\"https://colab.research.google.com/assets/colab-badge.svg\" alt=\"Open In Colab\"/></a>"
   ]
  },
  {
   "cell_type": "markdown",
   "source": [
    "##Definitions and preliminaries:\n",
    "\n",
    "**Emotion flip**: An emotion flip occurs at an utterance when its emotion tag is different from the emotion tag of the previous utterance. For example:\n",
    "\n",
    "> 0: \"Hey, Mon.\" (neutral) (trigger: no)\n",
    "\n",
    "> 1: \"Hey-hey-hey. You wanna hear something that sucks.\" (neutral) (trigger: yes)\n",
    "\n",
    "> 2:  \"Do I ever.\" (joy) (trigger: no)\n",
    "\n",
    "There is an emotion flip at utterance 2 from neutral to joy.\n",
    "\n",
    "**Emotion Trigger**: An emotion trigger is a tag applied to an utterance which \"triggers\" the emotion emotion. In the above example utterance 1 is tagged as a trigger because it is what causes the emotion of the other speaker to flip to joy. Every emotion flip has at least one trigger.\n",
    "\n",
    "**Data**: The provided SemEval training data contains conversations from the show *Friends* which has been tagged with emotion flips and emotion triggers. The data is organized into \"episodes\" where every episode introduces one new emotion flip. The same utterances, coming from the same conversation, can be repeated between episodes. For example this is one of the other episodes in the training data:\n",
    "\n",
    "> 0: \"Hey, Mon.\" (neutral) (trigger: no)\n",
    "\n",
    "> 1: \"Hey-hey-hey. You wanna hear something that sucks.\" (neutral) (trigger: no)\n",
    "\n",
    "> 2:  \"Do I ever.\" (joy) (trigger: no)\n",
    "\n",
    "> 3: \"Chris says they're closing down the bar.\" (sadness) (trigger: **yes**)\n",
    "\n",
    "> 4: \"No way!\" (suprise) (trigger: no)\n",
    "\n",
    "> 5: \"Yeah, apparently they're turning it into some kinda coffee place.\" (neutral) (trigger: **yes**)\n",
    "\n",
    "> 6: \"Just coffee! Where are we gonna hang out now?\" (disgust) (trigger: **yes**)\n",
    "\n",
    "> 7: \"Got me.\" (sadness)\n",
    "\n",
    "There are three utterances in this example (at 3, 5, and 6) which trigger the emotion flip to sadness at utterance 7.\n",
    "\n",
    "## Tasks\n",
    "\n",
    "**ERC Task**: Given a dialogue, the goal of Emotional Recognition in Conversation (ERC) is to assign each utterance an emotion.\n",
    "\n",
    "**EFR Task**: Given a dialogue, the goal of Emotional Flip Reasoning (EFR) is to predict the triggers for the emotion flips in a sequence of utterances.\n",
    "\n",
    "**Data Preprocessing:**\n",
    "\n"
   ],
   "metadata": {
    "id": "1sEfk3ki1_WS"
   }
  },
  {
   "cell_type": "code",
   "source": [
    "import pandas as pd\n",
    "from sklearn.model_selection import train_test_split\n",
    "from sklearn.feature_extraction.text import TfidfVectorizer\n",
    "from sklearn.linear_model import LinearRegression\n",
    "from sklearn.naive_bayes import GaussianNB\n",
    "from sklearn.metrics import mean_squared_error, accuracy_score\n",
    "from sklearn.preprocessing import LabelBinarizer\n",
    "from sklearn.preprocessing import LabelEncoder\n",
    "import numpy as np\n",
    "#from google.colab import drive"
   ],
   "metadata": {
    "id": "dYFNadU0U2fP",
    "ExecuteTime": {
     "end_time": "2023-11-27T23:05:58.430559378Z",
     "start_time": "2023-11-27T23:05:57.801017589Z"
    }
   },
   "execution_count": 1,
   "outputs": []
  },
  {
   "cell_type": "code",
   "execution_count": 2,
   "metadata": {
    "id": "7gJBs8BBEoXJ",
    "ExecuteTime": {
     "end_time": "2023-11-27T23:06:07.284992666Z",
     "start_time": "2023-11-27T23:06:05.785952317Z"
    }
   },
   "outputs": [],
   "source": [
    "#drive.mount('/content/drive')\n",
    "\n",
    "# Publicly hosted SemEval data:\n",
    "url = 'https://raw.githubusercontent.com/deckerkrogh/nlp243_data/main/MELD_train_efr.json'\n",
    "#file_path = '/content/drive/MyDrive/NLP243/MELD_train_efr.json'\n",
    "#with open(file_path, 'r') as file:\n",
    "#data = json.load(url)\n",
    "raw_data = pd.read_json(url)"
   ]
  },
  {
   "cell_type": "code",
   "source": [
    "train_df = pd.DataFrame()\n",
    "\n",
    "for i, episode in raw_data.iterrows():\n",
    "\n",
    "    # Get the last emotion flip (this is the emotion flip which the\n",
    "    # triggers refer to)\n",
    "    #e_1 = episode['emotions'][0]\n",
    "    #last_flip_i = 0\n",
    "    #for i, e_2 in enumerate(episode['emotions'][1:]):\n",
    "        #if e_1 != e_2:\n",
    "            #last_flip_i = i + 1\n",
    "        #e_1 = e_2\n",
    "\n",
    "    episode_df = pd.DataFrame({\n",
    "        'utterance': episode['utterances'],\n",
    "        'emotions': episode['emotions']\n",
    "        #'triggers': episode['triggers'],\n",
    "        #'emotion_flip': last_flip_i\n",
    "    })\n",
    "    train_df = pd.concat([train_df, episode_df], ignore_index=True)"
   ],
   "metadata": {
    "id": "WmUzEVdKEvB-",
    "ExecuteTime": {
     "end_time": "2023-11-27T23:06:13.005430694Z",
     "start_time": "2023-11-27T23:06:09.335845390Z"
    }
   },
   "execution_count": 3,
   "outputs": []
  },
  {
   "cell_type": "code",
   "source": [
    "# TODO: remove duplicate utterances (which are numerous).\n",
    "# I hypothesize that neutral is overrepresented because conversations will usually\n",
    "#    start with neutral.\n",
    "train_df['emotions'].value_counts().plot(title='Train emotion distribution', kind='bar', subplots=True)"
   ],
   "metadata": {
    "colab": {
     "base_uri": "https://localhost:8080/",
     "height": 537
    },
    "id": "wPTfPoffyKJM",
    "outputId": "8bfff47c-9098-4927-af56-7bd3e1bc611e",
    "ExecuteTime": {
     "end_time": "2023-11-27T23:07:11.266265028Z",
     "start_time": "2023-11-27T23:07:09.862031954Z"
    }
   },
   "execution_count": 5,
   "outputs": [
    {
     "data": {
      "text/plain": "array([<Axes: title={'center': 'count'}, xlabel='emotions'>], dtype=object)"
     },
     "execution_count": 5,
     "metadata": {},
     "output_type": "execute_result"
    },
    {
     "data": {
      "text/plain": "<Figure size 640x480 with 1 Axes>",
      "image/png": "[encoded data removed]"
     },
     "metadata": {},
     "output_type": "display_data"
    }
   ]
  },
  {
   "cell_type": "code",
   "source": [
    "train_df['emotions'].unique()"
   ],
   "metadata": {
    "id": "M4XYMQ5LTmTI"
   },
   "execution_count": null,
   "outputs": []
  },
  {
   "cell_type": "code",
   "source": [
    "train_df = train_df.dropna(subset=['emotions'])\n",
    "\n",
    "X = train_df['utterance']\n",
    "y = train_df['emotions']\n",
    "X_train, X_test, y_train, y_test = train_test_split(X, y, test_size=0.2)\n",
    "\n",
    "# Vectorize utterances\n",
    "vectorizer = TfidfVectorizer(max_features=1000)\n",
    "X_train_feat = vectorizer.fit_transform(X_train)\n",
    "X_test_feat = vectorizer.transform(X_test)\n",
    "\n",
    "\n",
    "def run_linear_regression(X_train_feat, X_test_feat, y_train, y_test):\n",
    "    # Binarize labels\n",
    "    lb = LabelBinarizer()\n",
    "    y_train_bin = lb.fit_transform(y_train)\n",
    "    y_test_bin = lb.transform(y_test)\n",
    "\n",
    "    lin_model = LinearRegression()\n",
    "    lin_model.fit(X_train_feat, y_train_bin)\n",
    "\n",
    "    # Calculate \"probabilities\" and set the highest to 1\n",
    "    y_prob = lin_model.predict(X_test_feat)\n",
    "    y_pred = (y_prob == y_prob.max(axis=1, keepdims=1)).astype(int)\n",
    "\n",
    "    print(\"Linear Regression:\")\n",
    "    mse = mean_squared_error(y_test_bin, y_pred)\n",
    "    print(\"Mean Squared Error: \", mse)\n",
    "    accuracy = accuracy_score(y_test_bin, y_pred)\n",
    "    print(\"Accuracy: \", accuracy)\n",
    "\n",
    "\n",
    "def run_gaussianNB(X_train_feat, X_test_feat, y_train, y_test):\n",
    "    # Encode the labels (assign an integer value)\n",
    "    le = LabelEncoder()\n",
    "    y_train_encoded = le.fit_transform(y_train)\n",
    "    y_test_encoded = le.fit_transform(y_test)\n",
    "\n",
    "    nb_model = GaussianNB()\n",
    "    nb_model.fit(X_train_feat.toarray(), y_train_encoded)\n",
    "\n",
    "    y_pred = nb_model.predict(X_test_feat.toarray())\n",
    "\n",
    "    print(\"\\nGaussianNB:\")\n",
    "    mse = mean_squared_error(y_test_encoded, y_pred)\n",
    "    print(\"Mean Squared Error: \", mse)\n",
    "    accuracy = accuracy_score(y_test_encoded, y_pred)\n",
    "    print(\"Accuracy: \", accuracy)\n",
    "\n",
    "run_linear_regression(X_train_feat, X_test_feat, y_train, y_test)\n",
    "#run_gaussianNB(X_train_feat, X_test_feat, y_train, y_test)"
   ],
   "metadata": {
    "colab": {
     "base_uri": "https://localhost:8080/"
    },
    "id": "hK42eaKbE13f",
    "outputId": "43dd2877-ede4-4d93-cda1-f73c4524d8b0",
    "ExecuteTime": {
     "end_time": "2023-11-27T23:07:28.879199276Z",
     "start_time": "2023-11-27T23:07:26.079730939Z"
    }
   },
   "execution_count": 6,
   "outputs": [
    {
     "name": "stdout",
     "output_type": "stream",
     "text": [
      "Linear Regression:\n",
      "Mean Squared Error:  0.11277551020408165\n",
      "Accuracy:  0.6052857142857143\n",
      "\n",
      "GaussianNB:\n",
      "Mean Squared Error:  5.764714285714286\n",
      "Accuracy:  0.21142857142857144\n"
     ]
    }
   ]
  },
  {
   "cell_type": "code",
   "source": [],
   "metadata": {
    "id": "gQqp1522HG5u"
   },
   "execution_count": null,
   "outputs": []
  }
 ]
}
