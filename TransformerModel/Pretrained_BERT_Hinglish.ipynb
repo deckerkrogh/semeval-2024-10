{
 "cells": [
  {
   "cell_type": "code",
   "execution_count": 1,
   "id": "1502448d-5b30-4d0b-9f40-a2c97364d3e2",
   "metadata": {},
   "outputs": [],
   "source": [
    "import json\n",
    "import random\n",
    "import torch\n",
    "import os\n",
    "\n",
    "import pandas as pd\n",
    "import numpy as np\n",
    "import torch.nn as nn\n",
    "\n",
    "from torch.utils.data import DataLoader, RandomSampler, SequentialSampler\n",
    "from transformers import AutoTokenizer, AutoModelForSequenceClassification\n",
    "from transformers import AdamW, get_linear_schedule_with_warmup\n",
    "from torch.utils.data import TensorDataset, random_split\n",
    "from sklearn.metrics import classification_report"
   ]
  },
  {
   "cell_type": "code",
   "execution_count": 2,
   "id": "afbbcd3a",
   "metadata": {},
   "outputs": [
    {
     "name": "stdout",
     "output_type": "stream",
     "text": [
      "Using GPU: NVIDIA GeForce RTX 3090\n"
     ]
    }
   ],
   "source": [
    "# Set to GPU if available.\n",
    "if torch.cuda.is_available():    \n",
    "    device = torch.device(\"cuda\")\n",
    "    print('Using GPU:', torch.cuda.get_device_name(0))\n",
    "else:\n",
    "    device = torch.device(\"cpu\")\n",
    "    print('No GPU available, using CPU instead.')"
   ]
  },
  {
   "cell_type": "code",
   "execution_count": 4,
   "id": "1b2695f0-136c-4bad-aae2-2b62f5f08c7c",
   "metadata": {},
   "outputs": [
    {
     "data": {
      "application/vnd.jupyter.widget-view+json": {
       "model_id": "01857d99d7e4452089ff585311446e35",
       "version_major": 2,
       "version_minor": 0
      },
      "text/plain": [
       "tokenizer_config.json:   0%|          | 0.00/418 [00:00<?, ?B/s]"
      ]
     },
     "metadata": {},
     "output_type": "display_data"
    },
    {
     "data": {
      "application/vnd.jupyter.widget-view+json": {
       "model_id": "0531b816061f468eb74427d624eaed26",
       "version_major": 2,
       "version_minor": 0
      },
      "text/plain": [
       "vocab.txt:   0%|          | 0.00/232k [00:00<?, ?B/s]"
      ]
     },
     "metadata": {},
     "output_type": "display_data"
    },
    {
     "data": {
      "application/vnd.jupyter.widget-view+json": {
       "model_id": "fbcc3933ef5449b79ad611539d1cf4af",
       "version_major": 2,
       "version_minor": 0
      },
      "text/plain": [
       "tokenizer.json:   0%|          | 0.00/711k [00:00<?, ?B/s]"
      ]
     },
     "metadata": {},
     "output_type": "display_data"
    },
    {
     "data": {
      "application/vnd.jupyter.widget-view+json": {
       "model_id": "cbe5f27da9ed4bf484978836a7e47670",
       "version_major": 2,
       "version_minor": 0
      },
      "text/plain": [
       "special_tokens_map.json:   0%|          | 0.00/112 [00:00<?, ?B/s]"
      ]
     },
     "metadata": {},
     "output_type": "display_data"
    },
    {
     "name": "stderr",
     "output_type": "stream",
     "text": [
      "/home/sttau/nlp243/venv/venv243a3/lib/python3.11/site-packages/transformers/tokenization_utils_base.py:2619: FutureWarning: The `pad_to_max_length` argument is deprecated and will be removed in a future version, use `padding=True` or `padding='longest'` to pad to the longest sequence in the batch, or use `padding='max_length'` to pad to a max length. In this case, you can give a specific length with `max_length` (e.g. `max_length=45`) or leave max_length to None to pad to the maximal input size of the model (e.g. 512 for Bert).\n",
      "  warnings.warn(\n"
     ]
    }
   ],
   "source": [
    "# Load the dataset.\n",
    "#df = pd.read_json(\"Task 1-20231125T063955Z-001\\Task 1\\MaSaC_train_erc.json\")\n",
    "df = pd.read_json('data/T1_train_erc.json')\n",
    "# Load the hing bert tokenizer.\n",
    "tokenizer = AutoTokenizer.from_pretrained(\"l3cube-pune/hing-bert\")\n",
    "\n",
    "# Get the input ids (bert embedding index) and attention masks (mask of whether a token is padding).\n",
    "# Note that this makes all utterances seperate examples, as bert does not support paragraphs (<SEP> only support a sentence pair).\n",
    "X_input_ids = []\n",
    "X_attention_mask = []\n",
    "\n",
    "for utterances in df[\"utterances\"]:\n",
    "    for utterance in utterances:\n",
    "        encoded_dict = tokenizer.encode_plus(utterance, add_special_tokens = True, max_length = 160, pad_to_max_length = True,\n",
    "                                             return_attention_mask = True, return_tensors = 'pt', truncation = True)\n",
    "        X_input_ids.append(encoded_dict['input_ids'])\n",
    "        X_attention_mask.append(encoded_dict['attention_mask'])\n",
    "\n",
    "# Convert emotions to labels.\n",
    "label_to_index = {'contempt':0, 'anger':1, 'surprise':2, 'fear':3, 'disgust':4, 'sadness':5, 'joy':6, 'neutral':7}\n",
    "Y = []\n",
    "for emotions in df[\"emotions\"]: \n",
    "    Y.extend([label_to_index[emotion] for emotion in emotions])\n",
    "\n",
    "X_input_ids = torch.cat(X_input_ids, dim=0)\n",
    "X_attention_mask = torch.cat(X_attention_mask, dim=0)\n",
    "Y = torch.tensor(Y)"
   ]
  },
  {
   "cell_type": "code",
   "execution_count": 5,
   "id": "74ab395c-c182-4a36-a6ea-a931aeeb2b3f",
   "metadata": {},
   "outputs": [],
   "source": [
    "# Prepare the dataset and data loaders.\n",
    "dataset = TensorDataset(X_input_ids, X_attention_mask, Y)\n",
    "\n",
    "train_size = int(0.9 * len(dataset))\n",
    "val_size = len(dataset) - train_size\n",
    "batch_size = 32\n",
    "\n",
    "train_dataset, val_dataset = random_split(dataset, [train_size, val_size])\n",
    "train_dataloader = DataLoader(train_dataset, sampler = RandomSampler(train_dataset), batch_size = batch_size)\n",
    "validation_dataloader = DataLoader(val_dataset, sampler = SequentialSampler(val_dataset), batch_size = batch_size)"
   ]
  },
  {
   "cell_type": "code",
   "execution_count": 6,
   "id": "104098b3-a68a-4491-825a-f96401790fd6",
   "metadata": {},
   "outputs": [
    {
     "data": {
      "application/vnd.jupyter.widget-view+json": {
       "model_id": "733ef6a22b1f4c9791e3f794952e23eb",
       "version_major": 2,
       "version_minor": 0
      },
      "text/plain": [
       "config.json:   0%|          | 0.00/716 [00:00<?, ?B/s]"
      ]
     },
     "metadata": {},
     "output_type": "display_data"
    },
    {
     "data": {
      "application/vnd.jupyter.widget-view+json": {
       "model_id": "ca181cafcf984ca1bab9e859a5414470",
       "version_major": 2,
       "version_minor": 0
      },
      "text/plain": [
       "model.safetensors:   0%|          | 0.00/438M [00:00<?, ?B/s]"
      ]
     },
     "metadata": {},
     "output_type": "display_data"
    },
    {
     "name": "stderr",
     "output_type": "stream",
     "text": [
      "Some weights of BertForSequenceClassification were not initialized from the model checkpoint at l3cube-pune/hing-bert and are newly initialized: ['bert.pooler.dense.bias', 'bert.pooler.dense.weight', 'classifier.bias', 'classifier.weight']\n",
      "You should probably TRAIN this model on a down-stream task to be able to use it for predictions and inference.\n"
     ]
    },
    {
     "data": {
      "text/plain": [
       "BertForSequenceClassification(\n",
       "  (bert): BertModel(\n",
       "    (embeddings): BertEmbeddings(\n",
       "      (word_embeddings): Embedding(30522, 768, padding_idx=0)\n",
       "      (position_embeddings): Embedding(512, 768)\n",
       "      (token_type_embeddings): Embedding(2, 768)\n",
       "      (LayerNorm): LayerNorm((768,), eps=1e-12, elementwise_affine=True)\n",
       "      (dropout): Dropout(p=0.1, inplace=False)\n",
       "    )\n",
       "    (encoder): BertEncoder(\n",
       "      (layer): ModuleList(\n",
       "        (0-11): 12 x BertLayer(\n",
       "          (attention): BertAttention(\n",
       "            (self): BertSelfAttention(\n",
       "              (query): Linear(in_features=768, out_features=768, bias=True)\n",
       "              (key): Linear(in_features=768, out_features=768, bias=True)\n",
       "              (value): Linear(in_features=768, out_features=768, bias=True)\n",
       "              (dropout): Dropout(p=0.1, inplace=False)\n",
       "            )\n",
       "            (output): BertSelfOutput(\n",
       "              (dense): Linear(in_features=768, out_features=768, bias=True)\n",
       "              (LayerNorm): LayerNorm((768,), eps=1e-12, elementwise_affine=True)\n",
       "              (dropout): Dropout(p=0.1, inplace=False)\n",
       "            )\n",
       "          )\n",
       "          (intermediate): BertIntermediate(\n",
       "            (dense): Linear(in_features=768, out_features=3072, bias=True)\n",
       "            (intermediate_act_fn): GELUActivation()\n",
       "          )\n",
       "          (output): BertOutput(\n",
       "            (dense): Linear(in_features=3072, out_features=768, bias=True)\n",
       "            (LayerNorm): LayerNorm((768,), eps=1e-12, elementwise_affine=True)\n",
       "            (dropout): Dropout(p=0.1, inplace=False)\n",
       "          )\n",
       "        )\n",
       "      )\n",
       "    )\n",
       "    (pooler): BertPooler(\n",
       "      (dense): Linear(in_features=768, out_features=768, bias=True)\n",
       "      (activation): Tanh()\n",
       "    )\n",
       "  )\n",
       "  (dropout): Dropout(p=0.1, inplace=False)\n",
       "  (classifier): Linear(in_features=768, out_features=8, bias=True)\n",
       ")"
      ]
     },
     "execution_count": 6,
     "metadata": {},
     "output_type": "execute_result"
    }
   ],
   "source": [
    "# Prepare the model.\n",
    "model = AutoModelForSequenceClassification.from_pretrained(\n",
    "    \"l3cube-pune/hing-bert\", num_labels = 8, output_attentions = False, output_hidden_states = False\n",
    ")\n",
    "model.cuda()"
   ]
  },
  {
   "cell_type": "code",
   "execution_count": 7,
   "id": "03dc1cfd-6dc1-49ca-a37e-13dee4818a11",
   "metadata": {},
   "outputs": [
    {
     "name": "stderr",
     "output_type": "stream",
     "text": [
      "/home/sttau/nlp243/venv/venv243a3/lib/python3.11/site-packages/transformers/optimization.py:429: FutureWarning: This implementation of AdamW is deprecated and will be removed in a future version. Use the PyTorch implementation torch.optim.AdamW instead, or set `no_deprecation_warning=True` to disable this warning\n",
      "  warnings.warn(\n"
     ]
    }
   ],
   "source": [
    "# Prepare the optimizer and learning rate scheduler.\n",
    "epochs = 4\n",
    "total_steps = len(train_dataloader) * epochs\n",
    "optimizer = AdamW(model.parameters(), lr = 5e-5, eps = 1e-8)\n",
    "scheduler = get_linear_schedule_with_warmup(optimizer, num_warmup_steps = 0, num_training_steps = total_steps)"
   ]
  },
  {
   "cell_type": "code",
   "execution_count": 8,
   "id": "e4364d1d-e5ca-4f42-a667-732f99afbf4d",
   "metadata": {},
   "outputs": [],
   "source": [
    "# Evaluation.\n",
    "def evaluation(model):\n",
    "    print(\"Running Validation...\")\n",
    "    index_to_label = {0:'contempt', 1:'anger', 2:'surprise', 3:'fear', 4:'disgust', 5:'sadness', 6:'joy', 7:'neutral'}\n",
    "    model.eval()\n",
    "    total_eval_loss = 0\n",
    "    predictions = []\n",
    "    labels = []\n",
    "    for batch in validation_dataloader:\n",
    "        b_input_ids = batch[0].to(device)\n",
    "        b_input_mask = batch[1].to(device)\n",
    "        b_labels = batch[2].to(device)\n",
    "    \n",
    "        with torch.no_grad():\n",
    "            result = model(b_input_ids, token_type_ids=None, attention_mask=b_input_mask, labels=b_labels, return_dict=True)\n",
    "    \n",
    "        logits = result.logits\n",
    "        total_eval_loss += loss.item()\n",
    "    \n",
    "        logits = logits.detach().cpu().numpy()\n",
    "        label_ids = b_labels.to('cpu').numpy()\n",
    "    \n",
    "        predictions.extend([index_to_label[i] for i in np.argmax(logits, axis=1).flatten()])\n",
    "        labels.extend([index_to_label[i] for i in label_ids.flatten()])\n",
    "\n",
    "    avg_val_loss = total_eval_loss / len(validation_dataloader)\n",
    "    print(\"Validation Loss: {0:.2f}\".format(avg_val_loss))\n",
    "    print(classification_report(labels, predictions))"
   ]
  },
  {
   "cell_type": "code",
   "execution_count": 9,
   "id": "284583ff-599c-4099-b0ac-dc2afd95ee00",
   "metadata": {},
   "outputs": [
    {
     "name": "stdout",
     "output_type": "stream",
     "text": [
      "\n",
      "======== Epoch 1 / 4 ========\n",
      "Running Training...\n",
      "  Batch   100  of    240.\n",
      "  Batch   200  of    240.\n",
      "\n",
      "  Average training loss: 1.51\n",
      "\n",
      "Running Validation...\n",
      "Validation Loss: 1.36\n",
      "              precision    recall  f1-score   support\n",
      "\n",
      "       anger       0.00      0.00      0.00        68\n",
      "    contempt       1.00      0.04      0.07        52\n",
      "     disgust       0.00      0.00      0.00         9\n",
      "        fear       0.00      0.00      0.00        58\n",
      "         joy       0.56      0.37      0.45       162\n",
      "     neutral       0.51      0.92      0.65       396\n",
      "     sadness       0.00      0.00      0.00        62\n",
      "    surprise       0.52      0.25      0.34        44\n",
      "\n",
      "    accuracy                           0.51       851\n",
      "   macro avg       0.32      0.20      0.19       851\n",
      "weighted avg       0.43      0.51      0.41       851\n",
      "\n",
      "\n",
      "======== Epoch 2 / 4 ========\n",
      "Running Training...\n"
     ]
    },
    {
     "name": "stderr",
     "output_type": "stream",
     "text": [
      "/home/sttau/nlp243/venv/venv243a3/lib/python3.11/site-packages/sklearn/metrics/_classification.py:1471: UndefinedMetricWarning: Precision and F-score are ill-defined and being set to 0.0 in labels with no predicted samples. Use `zero_division` parameter to control this behavior.\n",
      "  _warn_prf(average, modifier, msg_start, len(result))\n",
      "/home/sttau/nlp243/venv/venv243a3/lib/python3.11/site-packages/sklearn/metrics/_classification.py:1471: UndefinedMetricWarning: Precision and F-score are ill-defined and being set to 0.0 in labels with no predicted samples. Use `zero_division` parameter to control this behavior.\n",
      "  _warn_prf(average, modifier, msg_start, len(result))\n",
      "/home/sttau/nlp243/venv/venv243a3/lib/python3.11/site-packages/sklearn/metrics/_classification.py:1471: UndefinedMetricWarning: Precision and F-score are ill-defined and being set to 0.0 in labels with no predicted samples. Use `zero_division` parameter to control this behavior.\n",
      "  _warn_prf(average, modifier, msg_start, len(result))\n"
     ]
    },
    {
     "name": "stdout",
     "output_type": "stream",
     "text": [
      "  Batch   100  of    240.\n",
      "  Batch   200  of    240.\n",
      "\n",
      "  Average training loss: 1.22\n",
      "\n",
      "Running Validation...\n",
      "Validation Loss: 0.92\n",
      "              precision    recall  f1-score   support\n",
      "\n",
      "       anger       0.38      0.25      0.30        68\n",
      "    contempt       0.44      0.13      0.21        52\n",
      "     disgust       0.20      0.11      0.14         9\n",
      "        fear       0.18      0.09      0.12        58\n",
      "         joy       0.49      0.48      0.48       162\n",
      "     neutral       0.55      0.74      0.63       396\n",
      "     sadness       0.23      0.18      0.20        62\n",
      "    surprise       0.53      0.20      0.30        44\n",
      "\n",
      "    accuracy                           0.49       851\n",
      "   macro avg       0.37      0.27      0.30       851\n",
      "weighted avg       0.46      0.49      0.46       851\n",
      "\n",
      "\n",
      "======== Epoch 3 / 4 ========\n",
      "Running Training...\n",
      "  Batch   100  of    240.\n",
      "  Batch   200  of    240.\n",
      "\n",
      "  Average training loss: 0.88\n",
      "\n",
      "Running Validation...\n",
      "Validation Loss: 1.00\n",
      "              precision    recall  f1-score   support\n",
      "\n",
      "       anger       0.38      0.34      0.36        68\n",
      "    contempt       0.24      0.15      0.19        52\n",
      "     disgust       0.50      0.11      0.18         9\n",
      "        fear       0.27      0.12      0.17        58\n",
      "         joy       0.48      0.45      0.46       162\n",
      "     neutral       0.56      0.68      0.61       396\n",
      "     sadness       0.28      0.31      0.29        62\n",
      "    surprise       0.52      0.27      0.36        44\n",
      "\n",
      "    accuracy                           0.49       851\n",
      "   macro avg       0.40      0.30      0.33       851\n",
      "weighted avg       0.47      0.49      0.47       851\n",
      "\n",
      "\n",
      "======== Epoch 4 / 4 ========\n",
      "Running Training...\n",
      "  Batch   100  of    240.\n",
      "  Batch   200  of    240.\n",
      "\n",
      "  Average training loss: 0.61\n",
      "\n",
      "Running Validation...\n",
      "Validation Loss: 0.57\n",
      "              precision    recall  f1-score   support\n",
      "\n",
      "       anger       0.35      0.34      0.34        68\n",
      "    contempt       0.24      0.17      0.20        52\n",
      "     disgust       0.50      0.22      0.31         9\n",
      "        fear       0.25      0.16      0.19        58\n",
      "         joy       0.48      0.45      0.46       162\n",
      "     neutral       0.56      0.64      0.59       396\n",
      "     sadness       0.30      0.29      0.29        62\n",
      "    surprise       0.42      0.39      0.40        44\n",
      "\n",
      "    accuracy                           0.47       851\n",
      "   macro avg       0.39      0.33      0.35       851\n",
      "weighted avg       0.46      0.47      0.46       851\n",
      "\n",
      "\n",
      "Training complete!\n"
     ]
    }
   ],
   "source": [
    "seed_val = 10086\n",
    "random.seed(seed_val)\n",
    "np.random.seed(seed_val)\n",
    "torch.manual_seed(seed_val)\n",
    "torch.cuda.manual_seed_all(seed_val)\n",
    "\n",
    "# Training loop.\n",
    "for epoch_i in range(0, epochs):\n",
    "    print()\n",
    "    print('======== Epoch {:} / {:} ========'.format(epoch_i + 1, epochs))\n",
    "    print('Running Training...')\n",
    "\n",
    "    total_train_loss = 0\n",
    "    model.train()\n",
    "\n",
    "    for step, batch in enumerate(train_dataloader):\n",
    "        if step % 100 == 0 and not step == 0:\n",
    "            print('  Batch {:>5,}  of  {:>5,}.'.format(step, len(train_dataloader)))\n",
    "        \n",
    "        b_input_ids = batch[0].to(device)\n",
    "        b_input_mask = batch[1].to(device)\n",
    "        b_labels = batch[2].to(device)\n",
    "        model.zero_grad()\n",
    "\n",
    "        result = model(b_input_ids, token_type_ids=None, attention_mask=b_input_mask, labels=b_labels, return_dict=True)\n",
    "        loss = result.loss\n",
    "        logits = result.logits\n",
    "        total_train_loss += loss.item()\n",
    "\n",
    "        loss.backward()\n",
    "        torch.nn.utils.clip_grad_norm_(model.parameters(), 1.0)\n",
    "        optimizer.step()\n",
    "        scheduler.step()\n",
    "\n",
    "    avg_train_loss = total_train_loss / len(train_dataloader)\n",
    "    print()\n",
    "    print(\"  Average training loss: {0:.2f}\".format(avg_train_loss))\n",
    "    print()\n",
    "\n",
    "    # After each epoch, run validation once.\n",
    "    evaluation(model)\n",
    "\n",
    "print()\n",
    "print(\"Training complete!\")"
   ]
  },
  {
   "cell_type": "code",
   "execution_count": null,
   "id": "977b2dc2-2e1d-4afd-886d-8c3ddfbf37ac",
   "metadata": {},
   "outputs": [],
   "source": [
    "# Save the model.\n",
    "output_dir = '\\model_save_hinglish'\n",
    "if not os.path.exists(output_dir):\n",
    "    os.makedirs(output_dir)\n",
    "\n",
    "model_to_save = model.module if hasattr(model, 'module') else model\n",
    "model_to_save.save_pretrained(output_dir)\n",
    "tokenizer.save_pretrained(output_dir)"
   ]
  },
  {
   "cell_type": "code",
   "execution_count": null,
   "id": "af1b6565-f5c5-4490-92f2-b9c6c18cd58e",
   "metadata": {},
   "outputs": [],
   "source": [
    "# Load the saved model.\n",
    "saved_model = BertForSequenceClassification.from_pretrained(output_dir)\n",
    "saved_tokenizer = BertTokenizer.from_pretrained(output_dir)\n",
    "saved_model.to(device)\n",
    "evaluation(saved_model)"
   ]
  },
  {
   "cell_type": "code",
   "execution_count": 10,
   "id": "9826958c-3538-4eb9-b286-23e6a43c9cd6",
   "metadata": {},
   "outputs": [
    {
     "name": "stderr",
     "output_type": "stream",
     "text": [
      "/home/sttau/nlp243/venv/venv243a3/lib/python3.11/site-packages/transformers/tokenization_utils_base.py:2619: FutureWarning: The `pad_to_max_length` argument is deprecated and will be removed in a future version, use `padding=True` or `padding='longest'` to pad to the longest sequence in the batch, or use `padding='max_length'` to pad to a max length. In this case, you can give a specific length with `max_length` (e.g. `max_length=45`) or leave max_length to None to pad to the maximal input size of the model (e.g. 512 for Bert).\n",
      "  warnings.warn(\n"
     ]
    },
    {
     "name": "stdout",
     "output_type": "stream",
     "text": [
      "[5, 7, 3, 5, 1, 7, 7, 7, 7, 7]\n"
     ]
    }
   ],
   "source": [
    "# Load the new data\n",
    "new_df = pd.read_json('data/T1_test_erc.json')\n",
    "\n",
    "new_input_ids = []\n",
    "new_attention_masks = []\n",
    "\n",
    "for utterances in new_df[\"utterances\"]:\n",
    "    for utterance in utterances:\n",
    "        encoded_dict = tokenizer.encode_plus(\n",
    "            utterance, \n",
    "            add_special_tokens = True, \n",
    "            max_length = 160, \n",
    "            pad_to_max_length = True,\n",
    "            return_attention_mask = True, \n",
    "            return_tensors = 'pt', \n",
    "            truncation = True\n",
    "        )\n",
    "        new_input_ids.append(encoded_dict['input_ids'])\n",
    "        new_attention_masks.append(encoded_dict['attention_mask'])\n",
    "\n",
    "new_input_ids = torch.cat(new_input_ids, dim=0)\n",
    "new_attention_masks = torch.cat(new_attention_masks, dim=0)\n",
    "\n",
    "# Create a DataLoader for the new data\n",
    "new_dataset = TensorDataset(new_input_ids, new_attention_masks)\n",
    "new_dataloader = DataLoader(new_dataset, batch_size = 32)\n",
    "\n",
    "# Predict\n",
    "model.eval()\n",
    "predictions = []\n",
    "\n",
    "with torch.no_grad():\n",
    "    for batch in new_dataloader:\n",
    "        b_input_ids, b_input_mask = batch\n",
    "        b_input_ids = b_input_ids.to('cuda')\n",
    "        b_input_mask = b_input_mask.to('cuda')\n",
    "        outputs = model(b_input_ids, token_type_ids=None, attention_mask=b_input_mask)\n",
    "        logits = outputs[0]\n",
    "        logits = logits.detach().cpu().numpy()\n",
    "        predictions.extend(np.argmax(logits, axis=1))\n",
    "\n",
    "print(predictions[:10])"
   ]
  },
  {
   "cell_type": "code",
   "execution_count": 11,
   "id": "09f3565c-14dd-4dc6-a195-9a6b771ee580",
   "metadata": {},
   "outputs": [],
   "source": [
    "index_to_label = {v: k for k, v in label_to_index.items()}\n",
    "\n",
    "# Map each prediction to its corresponding emotion name\n",
    "predicted_emotions = [index_to_label[label] for label in predictions]\n",
    "\n",
    "# Write the emotions to a .txt file\n",
    "with open('predictions2.txt', 'w') as file:\n",
    "    for emotion in predicted_emotions:\n",
    "        file.write(emotion + '\\n')"
   ]
  },
  {
   "cell_type": "code",
   "execution_count": null,
   "id": "2a76f4f0-59b3-4f15-a515-3cf2ce7d1923",
   "metadata": {},
   "outputs": [],
   "source": []
  }
 ],
 "metadata": {
  "kernelspec": {
   "display_name": "Python 3 (ipykernel)",
   "language": "python",
   "name": "python3"
  },
  "language_info": {
   "codemirror_mode": {
    "name": "ipython",
    "version": 3
   },
   "file_extension": ".py",
   "mimetype": "text/x-python",
   "name": "python",
   "nbconvert_exporter": "python",
   "pygments_lexer": "ipython3",
   "version": "3.11.5"
  }
 },
 "nbformat": 4,
 "nbformat_minor": 5
}
