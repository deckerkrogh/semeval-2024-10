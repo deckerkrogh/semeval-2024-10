{
  "nbformat": 4,
  "nbformat_minor": 0,
  "metadata": {
    "colab": {
      "provenance": [],
      "authorship_tag": "ABX9TyO8Xrymg/Ls4NJ7qfAtfrUz",
      "include_colab_link": true
    },
    "kernelspec": {
      "name": "python3",
      "display_name": "Python 3"
    },
    "language_info": {
      "name": "python"
    }
  },
  "cells": [
    {
      "cell_type": "markdown",
      "metadata": {
        "id": "view-in-github",
        "colab_type": "text"
      },
      "source": [
        "<a href=\"https://colab.research.google.com/github/deckerkrogh/semeval-2024-10/blob/main/semeval_defs_prelims.ipynb\" target=\"_parent\"><img src=\"https://colab.research.google.com/assets/colab-badge.svg\" alt=\"Open In Colab\"/></a>"
      ]
    },
    {
      "cell_type": "markdown",
      "source": [
        "##Definitions and preliminaries:\n",
        "\n",
        "**Emotion flip**: An emotion flip occurs at an utterance when its emotion tag is different from the emotion tag of the previous utterance. For example:\n",
        "\n",
        "> 0: \"Hey, Mon.\" (neutral) (trigger: no)\n",
        "\n",
        "> 1: \"Hey-hey-hey. You wanna hear something that sucks.\" (neutral) (trigger: yes)\n",
        "\n",
        "> 2:  \"Do I ever.\" (joy) (trigger: no)\n",
        "\n",
        "There is an emotion flip at utterance 2 from neutral to joy.\n",
        "\n",
        "**Emotion Trigger**: An emotion trigger is a tag applied to an utterance which \"triggers\" the emotion emotion. In the above example utterance 1 is tagged as a trigger because it is what causes the emotion of the other speaker to flip to joy. Every emotion flip has at least one trigger.\n",
        "\n",
        "**Data**: The provided SemEval training data contains conversations from the show *Friends* which has been tagged with emotion flips and emotion triggers. The data is organized into \"episodes\" where every episode introduces one new emotion flip. The same utterances, coming from the same conversation, can be repeated between episodes. For example this is one of the other episodes in the training data:\n",
        "\n",
        "> 0: \"Hey, Mon.\" (neutral) (trigger: no)\n",
        "\n",
        "> 1: \"Hey-hey-hey. You wanna hear something that sucks.\" (neutral) (trigger: no)\n",
        "\n",
        "> 2:  \"Do I ever.\" (joy) (trigger: no)\n",
        "\n",
        "> 3: \"Chris says they're closing down the bar.\" (sadness) (trigger: **yes**)\n",
        "\n",
        "> 4: \"No way!\" (suprise) (trigger: no)\n",
        "\n",
        "> 5: \"Yeah, apparently they're turning it into some kinda coffee place.\" (neutral) (trigger: **yes**)\n",
        "\n",
        "> 6: \"Just coffee! Where are we gonna hang out now?\" (disgust) (trigger: **yes**)\n",
        "\n",
        "> 7: \"Got me.\" (sadness)\n",
        "\n",
        "There are three utterances in this example (at 3, 5, and 6) which trigger the emotion flip to sadness at utterance 7.\n",
        "\n",
        "## Tasks\n",
        "\n",
        "**ERC Task**: Given a dialogue, the goal of Emotional Recognition in Conversation (ERC) is to assign each utterance an emotion.\n",
        "\n",
        "**EFR Task**: Given a dialogue, the goal of Emotional Flip Reasoning (EFR) is to predict the triggers for the emotion flips in a sequence of utterances.\n",
        "\n"
      ],
      "metadata": {
        "id": "1sEfk3ki1_WS"
      }
    }
  ]
}